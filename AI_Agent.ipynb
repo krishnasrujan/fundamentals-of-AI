{
 "cells": [
  {
   "cell_type": "markdown",
   "metadata": {},
   "source": [
    "# Simple moving agent "
   ]
  },
  {
   "cell_type": "code",
   "execution_count": 8,
   "metadata": {},
   "outputs": [],
   "source": [
    "class agent:\n",
    "    def __init__(self):\n",
    "        #prior knowledge / state\n",
    "        self.position_sense = 0\n",
    "    \n",
    "    def move(self):\n",
    "        # action take (change the position by one position)\n",
    "        self.position_sense += 1\n",
    "    \n",
    "    def tell_position(self):\n",
    "        print(\"I am currently at position\", self.position_sense)\n",
    "        "
   ]
  },
  {
   "cell_type": "code",
   "execution_count": 9,
   "metadata": {},
   "outputs": [
    {
     "name": "stdout",
     "output_type": "stream",
     "text": [
      "I am currently at position 1\n",
      "I am currently at position 2\n"
     ]
    }
   ],
   "source": [
    "only_move_agent = agent()\n",
    "#Environment stimuli\n",
    "only_move_agent.move()\n",
    "#Environment stimuli\n",
    "only_move_agent.tell_position()\n",
    "#Environment stimuli\n",
    "only_move_agent.move()\n",
    "#Environment stimuli\n",
    "only_move_agent.tell_position()"
   ]
  },
  {
   "cell_type": "markdown",
   "metadata": {},
   "source": [
    "# Agent and Environment"
   ]
  },
  {
   "cell_type": "code",
   "execution_count": 1,
   "metadata": {},
   "outputs": [],
   "source": [
    "class environment:\n",
    "    def __init__(self):\n",
    "        self.limit = 100\n",
    "        self.property = {}\n",
    "        for pos in range(self.limit):\n",
    "            if pos < (self.limit/4) or pos > (self.limit/2):\n",
    "                self.property[pos] = \"land\"\n",
    "            else:\n",
    "                self.property[pos] = \"water\"\n",
    "#         print(self.property)\n",
    "        \n",
    "    def get_limit(self):\n",
    "        return self.limit\n",
    "    \n",
    "    def get_property(self,pos):\n",
    "        return self.property[pos]\n",
    "    \n",
    "class env_aware_agent:\n",
    "    def __init__(self):\n",
    "        #prior knowledge / state\n",
    "        self.position_sense = 0       \n",
    "    \n",
    "    def move(self,env):\n",
    "        if self.position_sense < env.get_limit():\n",
    "            if env.get_property(self.position_sense) == \"land\":\n",
    "                print(\"_&_&_Walking_&_&_\")\n",
    "            elif env.get_property(self.position_sense) == \"water\":\n",
    "                print(\"_^_^_Swiming_^_^_\")\n",
    "            self.position_sense +=1\n",
    "            return True\n",
    "        else:\n",
    "            self.tell_position()\n",
    "            print(\"Reached at the end ... !!\" )\n",
    "            return False\n",
    "    def tell_position(self):\n",
    "        print(\"I am currently at position\", self.position_sense)\n"
   ]
  },
  {
   "cell_type": "code",
   "execution_count": 27,
   "metadata": {},
   "outputs": [
    {
     "name": "stdout",
     "output_type": "stream",
     "text": [
      "_&_&_Walking_&_&_\n",
      "_&_&_Walking_&_&_\n",
      "_&_&_Walking_&_&_\n",
      "_&_&_Walking_&_&_\n",
      "_&_&_Walking_&_&_\n",
      "_&_&_Walking_&_&_\n",
      "_&_&_Walking_&_&_\n",
      "_&_&_Walking_&_&_\n",
      "_&_&_Walking_&_&_\n",
      "_&_&_Walking_&_&_\n",
      "_&_&_Walking_&_&_\n",
      "_&_&_Walking_&_&_\n",
      "_&_&_Walking_&_&_\n",
      "_&_&_Walking_&_&_\n",
      "_&_&_Walking_&_&_\n",
      "_&_&_Walking_&_&_\n",
      "_&_&_Walking_&_&_\n",
      "_&_&_Walking_&_&_\n",
      "_&_&_Walking_&_&_\n",
      "_&_&_Walking_&_&_\n",
      "_&_&_Walking_&_&_\n",
      "_&_&_Walking_&_&_\n",
      "_&_&_Walking_&_&_\n",
      "_&_&_Walking_&_&_\n",
      "_&_&_Walking_&_&_\n",
      "_^_^_Swiming_^_^_\n",
      "_^_^_Swiming_^_^_\n",
      "_^_^_Swiming_^_^_\n",
      "_^_^_Swiming_^_^_\n",
      "_^_^_Swiming_^_^_\n",
      "_^_^_Swiming_^_^_\n",
      "_^_^_Swiming_^_^_\n",
      "_^_^_Swiming_^_^_\n",
      "_^_^_Swiming_^_^_\n",
      "_^_^_Swiming_^_^_\n",
      "_^_^_Swiming_^_^_\n",
      "_^_^_Swiming_^_^_\n",
      "_^_^_Swiming_^_^_\n",
      "_^_^_Swiming_^_^_\n",
      "_^_^_Swiming_^_^_\n",
      "_^_^_Swiming_^_^_\n",
      "_^_^_Swiming_^_^_\n",
      "_^_^_Swiming_^_^_\n",
      "_^_^_Swiming_^_^_\n",
      "_^_^_Swiming_^_^_\n",
      "_^_^_Swiming_^_^_\n",
      "_^_^_Swiming_^_^_\n",
      "_^_^_Swiming_^_^_\n",
      "_^_^_Swiming_^_^_\n",
      "_^_^_Swiming_^_^_\n",
      "_^_^_Swiming_^_^_\n",
      "_&_&_Walking_&_&_\n",
      "_&_&_Walking_&_&_\n",
      "_&_&_Walking_&_&_\n",
      "_&_&_Walking_&_&_\n",
      "_&_&_Walking_&_&_\n",
      "_&_&_Walking_&_&_\n",
      "_&_&_Walking_&_&_\n",
      "_&_&_Walking_&_&_\n",
      "_&_&_Walking_&_&_\n",
      "_&_&_Walking_&_&_\n",
      "_&_&_Walking_&_&_\n",
      "_&_&_Walking_&_&_\n",
      "_&_&_Walking_&_&_\n",
      "_&_&_Walking_&_&_\n",
      "_&_&_Walking_&_&_\n",
      "_&_&_Walking_&_&_\n",
      "_&_&_Walking_&_&_\n",
      "_&_&_Walking_&_&_\n",
      "_&_&_Walking_&_&_\n",
      "_&_&_Walking_&_&_\n",
      "_&_&_Walking_&_&_\n",
      "_&_&_Walking_&_&_\n",
      "_&_&_Walking_&_&_\n",
      "_&_&_Walking_&_&_\n",
      "_&_&_Walking_&_&_\n",
      "_&_&_Walking_&_&_\n",
      "_&_&_Walking_&_&_\n",
      "_&_&_Walking_&_&_\n",
      "_&_&_Walking_&_&_\n",
      "_&_&_Walking_&_&_\n",
      "_&_&_Walking_&_&_\n",
      "_&_&_Walking_&_&_\n",
      "_&_&_Walking_&_&_\n",
      "_&_&_Walking_&_&_\n",
      "_&_&_Walking_&_&_\n",
      "_&_&_Walking_&_&_\n",
      "_&_&_Walking_&_&_\n",
      "_&_&_Walking_&_&_\n",
      "_&_&_Walking_&_&_\n",
      "_&_&_Walking_&_&_\n",
      "_&_&_Walking_&_&_\n",
      "_&_&_Walking_&_&_\n",
      "_&_&_Walking_&_&_\n",
      "_&_&_Walking_&_&_\n",
      "_&_&_Walking_&_&_\n",
      "_&_&_Walking_&_&_\n",
      "_&_&_Walking_&_&_\n",
      "_&_&_Walking_&_&_\n",
      "_&_&_Walking_&_&_\n",
      "I am currently at position 100\n",
      "Reached at the end ... !!\n"
     ]
    }
   ],
   "source": [
    "my_agent = env_aware_agent()\n",
    "my_env = environment()\n",
    "\n",
    "status = True\n",
    "while(status):\n",
    "    status = my_agent.move(my_env)"
   ]
  },
  {
   "cell_type": "markdown",
   "metadata": {},
   "source": [
    "# Lets Have Fun"
   ]
  },
  {
   "cell_type": "code",
   "execution_count": 2,
   "metadata": {},
   "outputs": [],
   "source": [
    "import random\n",
    "random.seed(7)"
   ]
  },
  {
   "cell_type": "code",
   "execution_count": 3,
   "metadata": {},
   "outputs": [],
   "source": [
    "class random_environment:\n",
    "    def __init__(self):\n",
    "        self.limit = random.randint(10,100)\n",
    "        self.property = {}\n",
    "        for pos in range(self.limit):\n",
    "            self.property[pos] = random.choice([\"land\",\"water\"])\n",
    "#         print(self.property)\n",
    "        \n",
    "    def get_limit(self):\n",
    "        return self.limit\n",
    "    \n",
    "    def get_property(self,pos):\n",
    "        return self.property[pos]"
   ]
  },
  {
   "cell_type": "code",
   "execution_count": 6,
   "metadata": {},
   "outputs": [
    {
     "name": "stdout",
     "output_type": "stream",
     "text": [
      "New env limit is = 39\n",
      "_&_&_Walking_&_&_\n",
      "_&_&_Walking_&_&_\n",
      "_&_&_Walking_&_&_\n",
      "_&_&_Walking_&_&_\n",
      "_&_&_Walking_&_&_\n",
      "_&_&_Walking_&_&_\n",
      "_&_&_Walking_&_&_\n",
      "_^_^_Swiming_^_^_\n",
      "_&_&_Walking_&_&_\n",
      "_^_^_Swiming_^_^_\n",
      "_^_^_Swiming_^_^_\n",
      "_&_&_Walking_&_&_\n",
      "_&_&_Walking_&_&_\n",
      "_^_^_Swiming_^_^_\n",
      "_^_^_Swiming_^_^_\n",
      "_^_^_Swiming_^_^_\n",
      "_&_&_Walking_&_&_\n",
      "_&_&_Walking_&_&_\n",
      "_^_^_Swiming_^_^_\n",
      "_^_^_Swiming_^_^_\n",
      "_^_^_Swiming_^_^_\n",
      "_^_^_Swiming_^_^_\n",
      "_^_^_Swiming_^_^_\n",
      "_&_&_Walking_&_&_\n",
      "_^_^_Swiming_^_^_\n",
      "_^_^_Swiming_^_^_\n",
      "_&_&_Walking_&_&_\n",
      "_&_&_Walking_&_&_\n",
      "_&_&_Walking_&_&_\n",
      "_&_&_Walking_&_&_\n",
      "_^_^_Swiming_^_^_\n",
      "_&_&_Walking_&_&_\n",
      "_&_&_Walking_&_&_\n",
      "_^_^_Swiming_^_^_\n",
      "_&_&_Walking_&_&_\n",
      "_&_&_Walking_&_&_\n",
      "_&_&_Walking_&_&_\n",
      "_&_&_Walking_&_&_\n",
      "_&_&_Walking_&_&_\n",
      "I am currently at position 39\n",
      "Reached at the end ... !!\n"
     ]
    }
   ],
   "source": [
    "my_agent = env_aware_agent()\n",
    "my_env = random_environment()\n",
    "\n",
    "print(\"New env limit is =\",my_env.get_limit())\n",
    "\n",
    "status = True\n",
    "while(status):\n",
    "    status = my_agent.move(my_env)"
   ]
  },
  {
   "cell_type": "code",
   "execution_count": null,
   "metadata": {},
   "outputs": [],
   "source": [
    "# WAP to define agent that is environment aware\n",
    "# Environment has obstacles or flat surface\n",
    "# if obstacle comes agent jumps and changes postion by 2\n",
    "# else on flat surface agent moves by 1 position at a time"
   ]
  },
  {
   "cell_type": "code",
   "execution_count": 12,
   "metadata": {},
   "outputs": [],
   "source": [
    "class random_environment_o:\n",
    "    def __init__(self):\n",
    "        self.limit = random.randint(10,100)\n",
    "        self.property = {}\n",
    "        for pos in range(self.limit):\n",
    "            self.property[pos] = random.choice([\"O\",\"F\"])\n",
    "#         print(self.property)\n",
    "        \n",
    "    def get_limit(self):\n",
    "        return self.limit\n",
    "    \n",
    "    def get_property(self,pos):\n",
    "        return self.property[pos]"
   ]
  },
  {
   "cell_type": "code",
   "execution_count": 13,
   "metadata": {},
   "outputs": [],
   "source": [
    "class env_aware_agent_v1:\n",
    "    def __init__(self):\n",
    "        #prior knowledge / state\n",
    "        self.position_sense = 0 \n",
    "        self.see_next_sense = None\n",
    "    \n",
    "    def move(self,env):\n",
    "        if self.position_sense < env.get_limit():\n",
    "            self.see_next_sense = env.get_property(self.position_sense+1)\n",
    "            if env.get_property(self.position_sense) == \"O\":\n",
    "                print(\"Jump\",self.position_sense)\n",
    "#                 self.position_sense +=2\n",
    "                \n",
    "#                 if self.position_sense > env.get_limit():\n",
    "#                     self.position_sense = env.get_limit()\n",
    "                    \n",
    "                self.position_sense = min(self.position_sense+2, env.get_limit())\n",
    "            elif env.get_property(self.position_sense) == \"F\":\n",
    "                print(\"Walk\",self.position_sense)\n",
    "                self.position_sense +=1\n",
    "            return True\n",
    "        else:\n",
    "            self.tell_position()\n",
    "            print(\"Reached at the end ... !!\" )\n",
    "            return False\n",
    "    def tell_position(self):\n",
    "        print(\"I am currently at position\", self.position_sense)\n"
   ]
  },
  {
   "cell_type": "code",
   "execution_count": 20,
   "metadata": {},
   "outputs": [
    {
     "name": "stdout",
     "output_type": "stream",
     "text": [
      "New env limit is = 34\n",
      "Walk 0\n",
      "Walk 1\n",
      "Jump 2\n",
      "Jump 4\n",
      "Jump 6\n",
      "Walk 8\n",
      "Jump 9\n",
      "Walk 11\n",
      "Jump 12\n",
      "Jump 14\n",
      "Walk 16\n",
      "Walk 17\n",
      "Walk 18\n",
      "Walk 19\n",
      "Walk 20\n",
      "Walk 21\n",
      "Walk 22\n",
      "Jump 23\n",
      "Walk 25\n",
      "Walk 26\n",
      "Jump 27\n",
      "Jump 29\n",
      "Jump 31\n",
      "Jump 33\n",
      "I am currently at position 34\n",
      "Reached at the end ... !!\n"
     ]
    }
   ],
   "source": [
    "my_agent = env_aware_agent_v1()\n",
    "my_env = random_environment_o()\n",
    "\n",
    "print(\"New env limit is =\",my_env.get_limit())\n",
    "\n",
    "status = True\n",
    "while(status):\n",
    "    status = my_agent.move(my_env)"
   ]
  },
  {
   "cell_type": "markdown",
   "metadata": {},
   "source": [
    "## ASSIGNMENT"
   ]
  },
  {
   "cell_type": "code",
   "execution_count": 46,
   "metadata": {},
   "outputs": [],
   "source": [
    "import random\n",
    "class Agent:\n",
    "    \n",
    "    def __init__(self):\n",
    "        \n",
    "        self.sweet_count = 0\n",
    "        \n",
    "        self.sweet_loving = True\n",
    "        \n",
    "        self.tangy_count = 0\n",
    "            \n",
    "    def move(self,taste):\n",
    "        \n",
    "        if taste!='sweet':\n",
    "            self.sweet_loving = False\n",
    "            \n",
    "        if (self.sweet_loving == True):\n",
    "            self.sweet_count = self.sweet_count+1\n",
    "            #self.tangy_count = 0\n",
    "            print('***EATING SWEET***')\n",
    "            \n",
    "        else:\n",
    "            if self.tangy_count >= 2:\n",
    "                self.sweet_count = self.sweet_count+1\n",
    "                self.tangy_count = 0\n",
    "                print('***EATING SWEET***')\n",
    "                    \n",
    "            else:\n",
    "                print('___SKIPPING SWEET__')\n",
    "        \n",
    "        if (self.sweet_loving == False):\n",
    "            self.tangy_count = self.tangy_count+1\n",
    "            #self.sweet_count = 0\n",
    "            print('***EATING TANGY***')\n",
    "            \n",
    "        else:\n",
    "            if self.sweet_count >= 2:\n",
    "                self.tangy_count = self.tangy_count+1\n",
    "                self.sweet_count = 0\n",
    "                print('***EATING TANGY***')\n",
    "                \n",
    "            else:\n",
    "                print('___SKIPPING TANGY___')\n",
    "                "
   ]
  },
  {
   "cell_type": "code",
   "execution_count": 49,
   "metadata": {},
   "outputs": [],
   "source": [
    "class random_environment:\n",
    "    def __init__(self):\n",
    "        self.limit = random.randint(10,100)\n",
    "        self.property = {}\n",
    "        a = Agent()\n",
    "        for pos in range(self.limit):\n",
    "            task = random.choice([\"sweet\",\"tangy\",\"sweet\",\"tangy\",\"sweet\",\"tangy\",\"sweet\",\"tangy\"])\n",
    "            a.move(task)\n",
    "            \n",
    "    def get_limit(self):\n",
    "        return self.limit"
   ]
  },
  {
   "cell_type": "code",
   "execution_count": 50,
   "metadata": {},
   "outputs": [
    {
     "name": "stdout",
     "output_type": "stream",
     "text": [
      "___SKIPPING SWEET__\n",
      "***EATING TANGY***\n",
      "___SKIPPING SWEET__\n",
      "***EATING TANGY***\n",
      "***EATING SWEET***\n",
      "***EATING TANGY***\n",
      "___SKIPPING SWEET__\n",
      "***EATING TANGY***\n",
      "***EATING SWEET***\n",
      "***EATING TANGY***\n",
      "___SKIPPING SWEET__\n",
      "***EATING TANGY***\n",
      "***EATING SWEET***\n",
      "***EATING TANGY***\n",
      "___SKIPPING SWEET__\n",
      "***EATING TANGY***\n",
      "***EATING SWEET***\n",
      "***EATING TANGY***\n",
      "___SKIPPING SWEET__\n",
      "***EATING TANGY***\n",
      "***EATING SWEET***\n",
      "***EATING TANGY***\n",
      "___SKIPPING SWEET__\n",
      "***EATING TANGY***\n",
      "***EATING SWEET***\n",
      "***EATING TANGY***\n",
      "___SKIPPING SWEET__\n",
      "***EATING TANGY***\n",
      "***EATING SWEET***\n",
      "***EATING TANGY***\n",
      "___SKIPPING SWEET__\n",
      "***EATING TANGY***\n",
      "***EATING SWEET***\n",
      "***EATING TANGY***\n",
      "___SKIPPING SWEET__\n",
      "***EATING TANGY***\n",
      "***EATING SWEET***\n",
      "***EATING TANGY***\n",
      "___SKIPPING SWEET__\n",
      "***EATING TANGY***\n",
      "***EATING SWEET***\n",
      "***EATING TANGY***\n",
      "___SKIPPING SWEET__\n",
      "***EATING TANGY***\n",
      "***EATING SWEET***\n",
      "***EATING TANGY***\n",
      "___SKIPPING SWEET__\n",
      "***EATING TANGY***\n",
      "***EATING SWEET***\n",
      "***EATING TANGY***\n",
      "___SKIPPING SWEET__\n",
      "***EATING TANGY***\n",
      "***EATING SWEET***\n",
      "***EATING TANGY***\n",
      "___SKIPPING SWEET__\n",
      "***EATING TANGY***\n",
      "***EATING SWEET***\n",
      "***EATING TANGY***\n",
      "___SKIPPING SWEET__\n",
      "***EATING TANGY***\n",
      "***EATING SWEET***\n",
      "***EATING TANGY***\n",
      "___SKIPPING SWEET__\n",
      "***EATING TANGY***\n",
      "***EATING SWEET***\n",
      "***EATING TANGY***\n",
      "___SKIPPING SWEET__\n",
      "***EATING TANGY***\n",
      "***EATING SWEET***\n",
      "***EATING TANGY***\n",
      "___SKIPPING SWEET__\n",
      "***EATING TANGY***\n",
      "***EATING SWEET***\n",
      "***EATING TANGY***\n",
      "___SKIPPING SWEET__\n",
      "***EATING TANGY***\n",
      "***EATING SWEET***\n",
      "***EATING TANGY***\n",
      "___SKIPPING SWEET__\n",
      "***EATING TANGY***\n",
      "***EATING SWEET***\n",
      "***EATING TANGY***\n",
      "___SKIPPING SWEET__\n",
      "***EATING TANGY***\n",
      "***EATING SWEET***\n",
      "***EATING TANGY***\n",
      "___SKIPPING SWEET__\n",
      "***EATING TANGY***\n",
      "***EATING SWEET***\n",
      "***EATING TANGY***\n",
      "___SKIPPING SWEET__\n",
      "***EATING TANGY***\n",
      "***EATING SWEET***\n",
      "***EATING TANGY***\n",
      "___SKIPPING SWEET__\n",
      "***EATING TANGY***\n",
      "***EATING SWEET***\n",
      "***EATING TANGY***\n",
      "___SKIPPING SWEET__\n",
      "***EATING TANGY***\n",
      "***EATING SWEET***\n",
      "***EATING TANGY***\n",
      "___SKIPPING SWEET__\n",
      "***EATING TANGY***\n",
      "***EATING SWEET***\n",
      "***EATING TANGY***\n",
      "___SKIPPING SWEET__\n",
      "***EATING TANGY***\n",
      "***EATING SWEET***\n",
      "***EATING TANGY***\n"
     ]
    }
   ],
   "source": [
    "move = random_environment()"
   ]
  },
  {
   "cell_type": "code",
   "execution_count": 22,
   "metadata": {},
   "outputs": [
    {
     "name": "stdout",
     "output_type": "stream",
     "text": [
      "sweet  1 \n",
      "tangy  0\n"
     ]
    }
   ],
   "source": [
    "srujan = agent('sweet')\n",
    "srujan.eat_sweet()"
   ]
  },
  {
   "cell_type": "code",
   "execution_count": 23,
   "metadata": {},
   "outputs": [
    {
     "name": "stdout",
     "output_type": "stream",
     "text": [
      "sweet  2 \n",
      "tangy  0\n"
     ]
    }
   ],
   "source": [
    "srujan.eat_sweet()"
   ]
  },
  {
   "cell_type": "code",
   "execution_count": 24,
   "metadata": {},
   "outputs": [
    {
     "name": "stdout",
     "output_type": "stream",
     "text": [
      "sweet  0 \n",
      "tangy  1\n"
     ]
    }
   ],
   "source": [
    "srujan.eat_tangy()"
   ]
  },
  {
   "cell_type": "code",
   "execution_count": 25,
   "metadata": {},
   "outputs": [
    {
     "name": "stdout",
     "output_type": "stream",
     "text": [
      "cannot eat tangy\n"
     ]
    }
   ],
   "source": [
    "srujan.eat_tangy()"
   ]
  },
  {
   "cell_type": "code",
   "execution_count": null,
   "metadata": {},
   "outputs": [],
   "source": []
  }
 ],
 "metadata": {
  "kernelspec": {
   "display_name": "Python 3",
   "language": "python",
   "name": "python3"
  },
  "language_info": {
   "codemirror_mode": {
    "name": "ipython",
    "version": 3
   },
   "file_extension": ".py",
   "mimetype": "text/x-python",
   "name": "python",
   "nbconvert_exporter": "python",
   "pygments_lexer": "ipython3",
   "version": "3.7.6"
  }
 },
 "nbformat": 4,
 "nbformat_minor": 4
}
