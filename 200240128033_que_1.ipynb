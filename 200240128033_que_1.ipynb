{
 "cells": [
  {
   "cell_type": "code",
   "execution_count": 1,
   "metadata": {},
   "outputs": [],
   "source": [
    "import numpy as np "
   ]
  },
  {
   "cell_type": "markdown",
   "metadata": {},
   "source": [
    "# Pseudo Code\n",
    "\n",
    "1) A class Agent is created which taked dimensions of the environment as input\n",
    "\n",
    "2) create_env is the function which creates the enivronment. Lion is located in the middle of the environment and adjacent sides \n",
    "   of lion has heat. lion's state is denoted with (-10) value and the heat states are defined by (-5) value. Home is located the    the extreme end of the environment and is defined by (+20) value. \n",
    "   \n",
    "3) take_action if the function which takes current position of the agent as parameter. It checks all possible actions from current state. If any of the possible actions lead to the heat state, then it remove that action from the list of all possible action. After all the checks any random action is choosed from the list. And in the process of choosing the actions, if any of the actions from current state will lead the agent to home, then only that action is taken and the loop is ended.\n",
    "\n",
    "4) move function will take action from current state recurssively until agent reaches home.\n",
    "\n",
    "# Note:\n",
    "Agent will keep howring untill he reaches home.. so run this program at your own risk..."
   ]
  },
  {
   "cell_type": "code",
   "execution_count": 3,
   "metadata": {},
   "outputs": [],
   "source": [
    "class Agent:\n",
    "    \n",
    "    def __init__(self,n,m):\n",
    "        self.n = n\n",
    "        self.m = m\n",
    "    \n",
    "    def create_env(self):\n",
    "        '''\n",
    "        This function creates the enironment.\n",
    "        lion is placed at middle of the environment and \n",
    "        '''\n",
    "\n",
    "        self.env = np.zeros((self.n,self.m))\n",
    "\n",
    "        self.lion = (int(self.n/2),int(self.m/2))\n",
    "        self.heat = [(self.lion[0]-1,self.lion[1]),\\\n",
    "                     (self.lion[0]+1,self.lion[1]),\\\n",
    "                     (self.lion[0],self.lion[1]+1),\\\n",
    "                     (self.lion[0],self.lion[1]-1)]\n",
    "\n",
    "        self.env[self.lion] = -10\n",
    "        for i in self.heat:\n",
    "            self.env[i] = -5\n",
    "        self.home = (self.n-1,self.m-1)\n",
    "        self.env[self.home] = 20\n",
    "        \n",
    "    def take_action(self,pos):\n",
    "    \n",
    "        total_actions = [0,1,2,3] # 0:left,1:right,2:up,3:down\n",
    "        reached_home = False\n",
    "        for i,j in enumerate([(pos[0]-1,pos[1]),\\\n",
    "                              (pos[0]+1,pos[1]),\\\n",
    "                              (pos[0],pos[1]+1),\\\n",
    "                              (pos[0],pos[1]-1)]):\n",
    "            if j == self.home:\n",
    "                reached_home = True\n",
    "                break\n",
    "            if (j == self.lion) or (j in self.heat):\n",
    "                total_actions.remove(i)\n",
    "\n",
    "        if reached_home:\n",
    "            action = i\n",
    "            return action,True\n",
    "        action = np.random.choice(total_actions)\n",
    "        return action,False\n",
    "\n",
    "    def move(self,pos):\n",
    "\n",
    "        action,reached_home = self.take_action(pos)\n",
    "        if action == 0:\n",
    "            pos =  (pos[0]-1,pos[1])\n",
    "        elif action == 1:\n",
    "            pos = (pos[0]+1,pos[1])\n",
    "        elif action ==2:\n",
    "            pos = (pos[0],pos[1]+1)\n",
    "        else:\n",
    "            pos = (pos[0],pos[1]-1)\n",
    "        if not reached_home:\n",
    "            self.move(pos)\n",
    "        else:\n",
    "            print('Reahced home')"
   ]
  },
  {
   "cell_type": "code",
   "execution_count": 4,
   "metadata": {},
   "outputs": [],
   "source": [
    "p = Agent(4,5)"
   ]
  },
  {
   "cell_type": "code",
   "execution_count": 5,
   "metadata": {},
   "outputs": [],
   "source": [
    "p.create_env()"
   ]
  },
  {
   "cell_type": "markdown",
   "metadata": {},
   "source": [
    "For now I have commented the below line of code..     "
   ]
  },
  {
   "cell_type": "code",
   "execution_count": 6,
   "metadata": {},
   "outputs": [],
   "source": [
    "#    p.move((0,0))"
   ]
  },
  {
   "cell_type": "code",
   "execution_count": null,
   "metadata": {},
   "outputs": [],
   "source": []
  }
 ],
 "metadata": {
  "kernelspec": {
   "display_name": "Python 3",
   "language": "python",
   "name": "python3"
  },
  "language_info": {
   "codemirror_mode": {
    "name": "ipython",
    "version": 3
   },
   "file_extension": ".py",
   "mimetype": "text/x-python",
   "name": "python",
   "nbconvert_exporter": "python",
   "pygments_lexer": "ipython3",
   "version": "3.7.6"
  }
 },
 "nbformat": 4,
 "nbformat_minor": 4
}
