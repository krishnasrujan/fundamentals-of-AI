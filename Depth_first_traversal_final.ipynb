{
 "cells": [
  {
   "cell_type": "code",
   "execution_count": 1,
   "metadata": {},
   "outputs": [],
   "source": [
    "from collections import defaultdict"
   ]
  },
  {
   "cell_type": "code",
   "execution_count": 40,
   "metadata": {},
   "outputs": [],
   "source": [
    "class Node:\n",
    "    def __init__(self,Name,level=None,state=None,value=None):\n",
    "        self.name=Name\n",
    "        self.state=state\n",
    "        self.value=value\n",
    "        self.level = level\n",
    "\n",
    "    def set_state(self,state):\n",
    "        self.state = state\n",
    "    def get_state(self):\n",
    "        return self.state\n",
    "    \n",
    "    def set_value(self,value):\n",
    "        self.value = value\n",
    "    def get_value(self):\n",
    "        return self.value\n",
    "    \n",
    "    def set_level(self,level):\n",
    "        self.level = level\n",
    "    def get_level(self):\n",
    "        return self.level"
   ]
  },
  {
   "cell_type": "code",
   "execution_count": 41,
   "metadata": {},
   "outputs": [],
   "source": [
    "class Tree: \n",
    "  \n",
    "    # Constructor \n",
    "    def __init__(self):   \n",
    "        # default dictionary to store graph \n",
    "        self.tree_structure = defaultdict(list) \n",
    "        self.node_dict = {}\n",
    "        self.parent_map = {}\n",
    "        \n",
    "    def get_no_of_nodes(self):\n",
    "        return len(self.node_dict)\n",
    "    \n",
    "    def get_set_of_nodes(self):\n",
    "        return self.node_dict.keys()\n",
    "    \n",
    "    def get_node_parent(self,u):\n",
    "        if u in self.parent_map.keys():\n",
    "            return self.parent_map[u]\n",
    "        else:\n",
    "            return None\n",
    "    \n",
    "    def get_node_childs(self,u):\n",
    "        return self.tree_structure[u]\n",
    "    \n",
    "    def get_tree_leaf_nodes(self):\n",
    "        leaf_nodes = []\n",
    "        for node in self.node_dict.keys():\n",
    "            if node not in self.tree_structure.keys():\n",
    "                leaf_nodes.append(node)\n",
    "        return leaf_nodes\n",
    "    \n",
    "    def set_node_value(self,u,value):\n",
    "        self.node_dict[u].set_value(value)\n",
    "\n",
    "    def get_node_value(self,u):\n",
    "        return self.node_dict[u].get_value()\n",
    "    \n",
    "    def get_node_level(self,u):\n",
    "        return self.node_dict[u].get_level()\n",
    "    \n",
    "    # function to add an edge to graph \n",
    "    def addEdge(self,u,v): \n",
    "        self.tree_structure[u].append(v)\n",
    "        \n",
    "        # Add ROOT node\n",
    "        if len(self.node_dict.keys()) ==0:\n",
    "            self.node_dict[u] = Node(u,0)\n",
    "            \n",
    "        if u not in self.node_dict.keys():\n",
    "            print(\"Trying to new node at parent Not allowed!!\")\n",
    "            return\n",
    "        \n",
    "        # Add CHILD node\n",
    "        if v not in self.node_dict.keys():\n",
    "            level = self.node_dict[u].get_level()\n",
    "            self.node_dict[v] = Node(v,level+1)\n",
    "            \n",
    "        self.parent_map[v] = u\n",
    "        \n",
    "        \n",
    "    \n",
    "    def display_tree(self):\n",
    "        print(self.tree_structure)\n",
    "\n",
    "    def display_tree_with_value(self):\n",
    "        print(self.tree_structure)\n",
    "        for node in self.node_dict.keys():\n",
    "            print(node, self.node_dict[node].get_value())"
   ]
  },
  {
   "cell_type": "code",
   "execution_count": 42,
   "metadata": {},
   "outputs": [],
   "source": [
    "# Create a graph given in \n",
    "# the above diagram \n",
    "t = Tree() \n",
    "t.addEdge(0,1) \n",
    "t.addEdge(0,2)  \n",
    "t.addEdge(2,3)"
   ]
  },
  {
   "cell_type": "code",
   "execution_count": 43,
   "metadata": {},
   "outputs": [
    {
     "name": "stdout",
     "output_type": "stream",
     "text": [
      "defaultdict(<class 'list'>, {0: [1, 2], 2: [3]})\n"
     ]
    }
   ],
   "source": [
    "t.display_tree()"
   ]
  },
  {
   "cell_type": "code",
   "execution_count": 44,
   "metadata": {},
   "outputs": [
    {
     "data": {
      "text/plain": [
       "{'tree_structure': defaultdict(list, {0: [1, 2], 2: [3]}),\n",
       " 'node_dict': {0: <__main__.Node at 0x211cfe159c8>,\n",
       "  1: <__main__.Node at 0x211cf9168c8>,\n",
       "  2: <__main__.Node at 0x211cfe158c8>,\n",
       "  3: <__main__.Node at 0x211cf916788>},\n",
       " 'parent_map': {1: 0, 2: 0, 3: 2}}"
      ]
     },
     "execution_count": 44,
     "metadata": {},
     "output_type": "execute_result"
    }
   ],
   "source": [
    "t.__dict__"
   ]
  },
  {
   "cell_type": "code",
   "execution_count": 45,
   "metadata": {},
   "outputs": [],
   "source": [
    "def DFS(tree,source):\n",
    "    visited_map = {k : False for k in t.get_set_of_nodes()}\n",
    "    mystack =[]\n",
    "    \n",
    "    visited_map[source] = True\n",
    "    mystack.append(source) # push source on stack\n",
    "    print(\"Visited :\",source)\n",
    "    \n",
    "    while len(mystack) > 0:\n",
    "        curr_node = mystack.pop()\n",
    "        \n",
    "        if visited_map[curr_node] == False:\n",
    "            print(\"Visited :\",curr_node)\n",
    "            visited_map[curr_node]= True\n",
    "            \n",
    "        for child in tree.get_node_childs(curr_node):\n",
    "            if visited_map[child] == False:\n",
    "                mystack.append(child)"
   ]
  },
  {
   "cell_type": "code",
   "execution_count": 46,
   "metadata": {},
   "outputs": [
    {
     "name": "stdout",
     "output_type": "stream",
     "text": [
      "Visited : 0\n",
      "Visited : 2\n",
      "Visited : 3\n",
      "Visited : 1\n"
     ]
    }
   ],
   "source": [
    "DFS(t,0)"
   ]
  },
  {
   "cell_type": "code",
   "execution_count": 47,
   "metadata": {},
   "outputs": [
    {
     "name": "stdout",
     "output_type": "stream",
     "text": [
      "Visited : 1\n"
     ]
    }
   ],
   "source": [
    "DFS(t,1)"
   ]
  },
  {
   "cell_type": "code",
   "execution_count": 53,
   "metadata": {},
   "outputs": [],
   "source": [
    "t = Tree() \n",
    "t.addEdge(0,1) \n",
    "t.addEdge(0,2)  \n",
    "t.addEdge(2,3)\n",
    "t.addEdge(2,4)"
   ]
  },
  {
   "cell_type": "code",
   "execution_count": 54,
   "metadata": {},
   "outputs": [],
   "source": [
    "import numpy as np"
   ]
  },
  {
   "cell_type": "code",
   "execution_count": 55,
   "metadata": {},
   "outputs": [],
   "source": [
    "def assign_leaf_values(tree):\n",
    "    leaf_nodes = tree.get_tree_leaf_nodes()\n",
    "    \n",
    "    for leaf in leaf_nodes:\n",
    "        # assign value to leaf based on Win(+1) Loose(-1) or Draw(0)\n",
    "        tree.set_node_value(leaf, np.random.randint(-1,2,1))\n",
    "    \n",
    "    tree.display_tree_with_value()\n",
    "    return tree"
   ]
  },
  {
   "cell_type": "code",
   "execution_count": 56,
   "metadata": {},
   "outputs": [
    {
     "name": "stdout",
     "output_type": "stream",
     "text": [
      "defaultdict(<class 'list'>, {0: [1, 2], 2: [3, 4]})\n",
      "0 None\n",
      "1 [1]\n",
      "2 None\n",
      "3 [1]\n",
      "4 [1]\n"
     ]
    }
   ],
   "source": [
    "t=assign_leaf_values(t)"
   ]
  },
  {
   "cell_type": "code",
   "execution_count": 57,
   "metadata": {},
   "outputs": [],
   "source": [
    "def DFS_assign_utility(tree,source):\n",
    "    visited_map = {k : False for k in t.get_set_of_nodes()}\n",
    "    mystack =[]\n",
    "    \n",
    "#     visited_map[source] = True\n",
    "    mystack.append(source)\n",
    "#     print(\"Visited :\",source)\n",
    "    \n",
    "    while len(mystack) > 0:\n",
    "        curr_node = mystack.pop()\n",
    "        \n",
    "        if visited_map[curr_node] == False:\n",
    "            print(\"Visited :\",curr_node)\n",
    "            visited_map[curr_node]= True\n",
    "            mystack.append(curr_node)\n",
    "            \n",
    "        elif tree.get_node_value(curr_node) == None:\n",
    "            \n",
    "            child_values = []\n",
    "            for child in tree.get_node_childs(curr_node):\n",
    "                ## Get value of all children of the node\n",
    "                val = tree.get_node_value(child)\n",
    "                print(\"Child of \", curr_node, \"node\", child, \"value\", val)\n",
    "                child_values.append(val)\n",
    "                \n",
    "            level = tree.get_node_level(curr_node)\n",
    "            if level %2 == 0:\n",
    "                node_val = max(child_values)\n",
    "            else:\n",
    "                node_val = min(child_values)\n",
    "            \n",
    "            print(\"Node \", curr_node, \"is assigned value \", node_val)\n",
    "            tree.set_node_value(curr_node,node_val)\n",
    "        \n",
    "        for child in tree.get_node_childs(curr_node):\n",
    "            if visited_map[child] == False:\n",
    "                mystack.append(child)"
   ]
  },
  {
   "cell_type": "code",
   "execution_count": 58,
   "metadata": {},
   "outputs": [
    {
     "name": "stdout",
     "output_type": "stream",
     "text": [
      "Visited : 0\n",
      "Visited : 2\n",
      "Visited : 4\n",
      "Visited : 3\n",
      "Child of  2 node 3 value [1]\n",
      "Child of  2 node 4 value [1]\n",
      "Node  2 is assigned value  [1]\n",
      "Visited : 1\n",
      "Child of  0 node 1 value [1]\n",
      "Child of  0 node 2 value [1]\n",
      "Node  0 is assigned value  [1]\n"
     ]
    }
   ],
   "source": [
    "DFS_assign_utility(t,0)"
   ]
  },
  {
   "cell_type": "code",
   "execution_count": 59,
   "metadata": {},
   "outputs": [
    {
     "data": {
      "text/plain": [
       "array([1])"
      ]
     },
     "execution_count": 59,
     "metadata": {},
     "output_type": "execute_result"
    }
   ],
   "source": [
    "t.get_node_value(0)"
   ]
  },
  {
   "cell_type": "code",
   "execution_count": null,
   "metadata": {},
   "outputs": [],
   "source": []
  }
 ],
 "metadata": {
  "kernelspec": {
   "display_name": "Python 3",
   "language": "python",
   "name": "python3"
  },
  "language_info": {
   "codemirror_mode": {
    "name": "ipython",
    "version": 3
   },
   "file_extension": ".py",
   "mimetype": "text/x-python",
   "name": "python",
   "nbconvert_exporter": "python",
   "pygments_lexer": "ipython3",
   "version": "3.7.6"
  }
 },
 "nbformat": 4,
 "nbformat_minor": 4
}
