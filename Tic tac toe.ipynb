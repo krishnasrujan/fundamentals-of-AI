{
 "cells": [
  {
   "cell_type": "code",
   "execution_count": 1,
   "metadata": {},
   "outputs": [],
   "source": [
    "import numpy as np "
   ]
  },
  {
   "cell_type": "code",
   "execution_count": 2,
   "metadata": {},
   "outputs": [
    {
     "data": {
      "text/plain": [
       "array([[0., 0., 0.],\n",
       "       [0., 0., 0.],\n",
       "       [0., 0., 0.]])"
      ]
     },
     "execution_count": 2,
     "metadata": {},
     "output_type": "execute_result"
    }
   ],
   "source": [
    "a = np.array(np.zeros(9)).reshape(3,3)\n",
    "a"
   ]
  },
  {
   "cell_type": "code",
   "execution_count": 3,
   "metadata": {},
   "outputs": [],
   "source": [
    "def check():\n",
    "    \n",
    "    for i in range(3):\n",
    "        \n",
    "        if (a[i][0] != 0) & (a[i][0] == a[i][1]) & (a[i][1] == a[i][2]):\n",
    "            print(f'Player {a[i][0]} is the winner')\n",
    "            return 1\n",
    "            \n",
    "        elif (a[0][i] != 0) & (a[0][i] == a[1][i]) & (a[1][i] == a[2][i]):\n",
    "            print(f'Player {a[0][i]} is the winner')\n",
    "            return 1\n",
    "            \n",
    "        else:\n",
    "            continue\n",
    "      \n",
    "    if (a[1][1] != 0) & (a[0][0] == a[1][1]) & (a[1][1] == a[2][2]):\n",
    "        print(f'Player {a[1][1]} is the winner')\n",
    "        return 1\n",
    "    \n",
    "    if (a[1][1] != 0) & (a[2][0] == a[1][1]) & (a[1][1] == a[0][2]):\n",
    "        print(f'Player {a[1][1]} is the winner')\n",
    "        return 1\n",
    "    return 0\n",
    "            "
   ]
  },
  {
   "cell_type": "code",
   "execution_count": 4,
   "metadata": {},
   "outputs": [
    {
     "name": "stdout",
     "output_type": "stream",
     "text": [
      "Player 2 enter the position1,2\n",
      "Player 1 enter the position1,0\n",
      "Player 2 enter the position0,2\n",
      "Player 1 enter the position0,0\n",
      "Player 2 enter the position2,2\n",
      "Player 2.0 is the winner\n"
     ]
    }
   ],
   "source": [
    "for i in range(0,9):\n",
    "    \n",
    "    if i%2 !=0:\n",
    "        try:\n",
    "            string = input('Player 1 enter the position')\n",
    "            x=int(string[0])\n",
    "            y=int(string[2])\n",
    "            a[x,y] = 1\n",
    "            if check():\n",
    "                break\n",
    "            \n",
    "        except:\n",
    "            print('Index should be 0 to 2\\n')\n",
    "            break\n",
    "        \n",
    "    else:\n",
    "    \n",
    "        try:\n",
    "            string = input('Player 2 enter the position')\n",
    "            x=int(string[0])\n",
    "            y=int(string[2])\n",
    "            a[x,y] = 2\n",
    "            if check():\n",
    "                break\n",
    "            \n",
    "        except:\n",
    "            print('Index should be 0 to 2\\n')\n",
    "            break\n",
    "    "
   ]
  },
  {
   "cell_type": "code",
   "execution_count": null,
   "metadata": {},
   "outputs": [],
   "source": []
  },
  {
   "cell_type": "code",
   "execution_count": null,
   "metadata": {},
   "outputs": [],
   "source": []
  },
  {
   "cell_type": "code",
   "execution_count": null,
   "metadata": {},
   "outputs": [],
   "source": []
  },
  {
   "cell_type": "code",
   "execution_count": null,
   "metadata": {},
   "outputs": [],
   "source": []
  }
 ],
 "metadata": {
  "kernelspec": {
   "display_name": "Python 3",
   "language": "python",
   "name": "python3"
  },
  "language_info": {
   "codemirror_mode": {
    "name": "ipython",
    "version": 3
   },
   "file_extension": ".py",
   "mimetype": "text/x-python",
   "name": "python",
   "nbconvert_exporter": "python",
   "pygments_lexer": "ipython3",
   "version": "3.7.6"
  }
 },
 "nbformat": 4,
 "nbformat_minor": 4
}
