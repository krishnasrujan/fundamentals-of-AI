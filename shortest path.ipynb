{
 "cells": [
  {
   "cell_type": "code",
   "execution_count": 1,
   "metadata": {},
   "outputs": [],
   "source": [
    "from collections import defaultdict "
   ]
  },
  {
   "cell_type": "code",
   "execution_count": 38,
   "metadata": {},
   "outputs": [],
   "source": [
    "# This class represents a directed graph \n",
    "# using adjacency list representation \n",
    "class Graph: \n",
    "  \n",
    "    # Constructor \n",
    "    def __init__(self): \n",
    "  \n",
    "        # default dictionary to store graph \n",
    "        self.graph = defaultdict(list) \n",
    "        self.weights = defaultdict(list) \n",
    "        self.no_nodes = 0\n",
    "    \n",
    "    def set_no_nodes(self,no_nodes):\n",
    "        self.no_nodes = no_nodes\n",
    "    \n",
    "    # function to add an edge to graph \n",
    "    def addEdge(self,u,v,weight): \n",
    "        self.graph[u].append(v)\n",
    "        self.weights[u].append(weight)\n",
    "        \n",
    "    def display_graph(self):\n",
    "        print(self.graph)\n",
    "        print(self.weights)\n",
    "        \n",
    "    def shortest_path(self,node):\n",
    "        \n",
    "        shortest_path=[]\n",
    "        path_length=0\n",
    "        shortest_path.append(node)\n",
    "        \n",
    "        while 'dest' not in self.graph[node]:\n",
    "            \n",
    "            temp = min(self.weights[node])\n",
    "            list_index = self.weights[node].index(temp)\n",
    "            \n",
    "            node = self.graph[node][list_index]\n",
    "            shortest_path.append(node)\n",
    "            \n",
    "            path_length = path_length + temp\n",
    "        \n",
    "        list_index = self.graph[node].index('dest')\n",
    "        shortest_path.append('dest')\n",
    "        path_length = path_length + self.weights[node][list_index]\n",
    "        \n",
    "        print(shortest_path,'\\n',path_length)\n",
    "            "
   ]
  },
  {
   "cell_type": "code",
   "execution_count": 39,
   "metadata": {},
   "outputs": [],
   "source": [
    "g = Graph() \n",
    "g.set_no_nodes(6)\n",
    "g.addEdge('s', 'w', 10) \n",
    "g.addEdge('w', 'y', 8)  \n",
    "g.addEdge('y', 'z', 2) \n",
    "g.addEdge('x', 'z', 12) \n",
    "g.addEdge('s', 'x', 5) \n",
    "g.addEdge('x', 'y', 2) \n",
    "g.addEdge('w', 'z', 13) \n",
    "g.addEdge('y', 'dest', 8) \n",
    "g.addEdge('z', 'dest', 5) "
   ]
  },
  {
   "cell_type": "code",
   "execution_count": 40,
   "metadata": {},
   "outputs": [
    {
     "name": "stdout",
     "output_type": "stream",
     "text": [
      "defaultdict(<class 'list'>, {'s': ['w', 'x'], 'w': ['y', 'z'], 'y': ['z', 'dest'], 'x': ['z', 'y'], 'z': ['dest']})\n",
      "defaultdict(<class 'list'>, {'s': [10, 5], 'w': [8, 13], 'y': [2, 8], 'x': [12, 2], 'z': [5]})\n"
     ]
    }
   ],
   "source": [
    "g.display_graph()"
   ]
  },
  {
   "cell_type": "code",
   "execution_count": 41,
   "metadata": {},
   "outputs": [
    {
     "name": "stdout",
     "output_type": "stream",
     "text": [
      "enter a starting node\n",
      "w\n",
      "['w', 'y', 'dest'] \n",
      " 16\n"
     ]
    }
   ],
   "source": [
    "starting_node = input('enter a starting node\\n')\n",
    "\n",
    "g.shortest_path(starting_node)"
   ]
  },
  {
   "cell_type": "code",
   "execution_count": 54,
   "metadata": {},
   "outputs": [],
   "source": [
    "# This class represents a directed graph \n",
    "# using adjacency list representation \n",
    "class Graph: \n",
    "  \n",
    "    # Constructor \n",
    "    def __init__(self): \n",
    "  \n",
    "        # default dictionary to store graph \n",
    "        self.graph = defaultdict(list) \n",
    "        self.weights = defaultdict(list) \n",
    "        self.no_nodes = 0\n",
    "        self.visited = defaultdict()\n",
    "        \n",
    "    def set_no_nodes(self,no_nodes):\n",
    "        self.no_nodes = no_nodes\n",
    "    \n",
    "    # function to add an edge to graph \n",
    "    def addEdge(self,u,v,weight): \n",
    "        self.graph[u].append(v)\n",
    "        self.weights[u].append(weight)\n",
    "        self.visited[u]=False\n",
    "        \n",
    "    def display_graph(self):\n",
    "        print(self.graph)\n",
    "        print(self.weights)\n",
    "        print(self.visited)\n",
    "        \n",
    "    def shortest_path(self,node):\n",
    "        \n",
    "        shortest_path=[]\n",
    "        path_length=0\n",
    "        shortest_path.append(node)\n",
    "        self.visited[node]=True\n",
    "        \n",
    "        while 'dest' not in self.graph[node]:\n",
    "            \n",
    "            \n",
    "            min_edge = max(self.weights[node])\n",
    "            print(min_edge)\n",
    "            for i in self.weights[node]:\n",
    "                print(i)\n",
    "                idx =  self.weights[node].index(i) #index of i'th weight in graph\n",
    "                n = self.graph[node][idx]\n",
    "                \n",
    "                if (i < min_edge)& (self.visited[n]==False):\n",
    "                    min_edge = i\n",
    "            \n",
    "            node = n\n",
    "            shortest_path.append(node)\n",
    "            self.visited[node]=True\n",
    "            \n",
    "            path_length = path_length + min_edge\n",
    "        \n",
    "        idx = self.graph[node].index('dest')\n",
    "        shortest_path.append('dest')\n",
    "        path_length = path_length + self.weights[node][idx]\n",
    "        \n",
    "        print(shortest_path,'\\n',path_length)\n",
    "            "
   ]
  },
  {
   "cell_type": "code",
   "execution_count": 55,
   "metadata": {},
   "outputs": [],
   "source": [
    "g = Graph() \n",
    "g.set_no_nodes(6)\n",
    "g.addEdge('s', 'w', 10) \n",
    "g.addEdge('w', 'y', 8)  \n",
    "g.addEdge('y', 'z', 2) \n",
    "g.addEdge('x', 'z', 12) \n",
    "g.addEdge('s', 'x', 5) \n",
    "g.addEdge('x', 'y', 2) \n",
    "g.addEdge('w', 'z', 13) \n",
    "g.addEdge('y', 'dest', 8) \n",
    "g.addEdge('z', 'dest', 5) "
   ]
  },
  {
   "cell_type": "code",
   "execution_count": 56,
   "metadata": {},
   "outputs": [
    {
     "name": "stdout",
     "output_type": "stream",
     "text": [
      "defaultdict(<class 'list'>, {'s': ['w', 'x'], 'w': ['y', 'z'], 'y': ['z', 'dest'], 'x': ['z', 'y'], 'z': ['dest']})\n",
      "defaultdict(<class 'list'>, {'s': [10, 5], 'w': [8, 13], 'y': [2, 8], 'x': [12, 2], 'z': [5]})\n",
      "defaultdict(None, {'s': False, 'w': False, 'y': False, 'x': False, 'z': False})\n"
     ]
    }
   ],
   "source": [
    "g.display_graph()"
   ]
  },
  {
   "cell_type": "code",
   "execution_count": 57,
   "metadata": {},
   "outputs": [
    {
     "name": "stdout",
     "output_type": "stream",
     "text": [
      "enter a starting node\n",
      "w\n",
      "13\n",
      "8\n",
      "13\n",
      "['w', 'z', 'dest'] \n",
      " 13\n"
     ]
    }
   ],
   "source": [
    "starting_node = input('enter a starting node\\n')\n",
    "\n",
    "g.shortest_path(starting_node)"
   ]
  },
  {
   "cell_type": "code",
   "execution_count": null,
   "metadata": {},
   "outputs": [],
   "source": []
  }
 ],
 "metadata": {
  "kernelspec": {
   "display_name": "Python 3",
   "language": "python",
   "name": "python3"
  },
  "language_info": {
   "codemirror_mode": {
    "name": "ipython",
    "version": 3
   },
   "file_extension": ".py",
   "mimetype": "text/x-python",
   "name": "python",
   "nbconvert_exporter": "python",
   "pygments_lexer": "ipython3",
   "version": "3.7.6"
  }
 },
 "nbformat": 4,
 "nbformat_minor": 4
}
