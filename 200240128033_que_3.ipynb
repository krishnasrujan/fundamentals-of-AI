{
 "cells": [
  {
   "cell_type": "code",
   "execution_count": 4,
   "metadata": {},
   "outputs": [],
   "source": [
    "import numpy as np"
   ]
  },
  {
   "cell_type": "markdown",
   "metadata": {},
   "source": [
    "# Strategy \n",
    "\n",
    "\n",
    "1) I will convert the input into 2 dimensional array.. just as Tic Tac Toe grid.\n",
    "\n",
    "2) Then I will check all elemnts in each row and end in each column. If all the elements are equal in a particular row or a particular column and if the value of the element is X (only X coz X is the agent), then agent wins.\n",
    "\n",
    "3) If all the elements in a particular row or column is not X and they are equal then, agent looses.\n",
    "\n",
    "4) Likewise I'm also checking the diagonal elements of the array. If they are equal and the element in X then agent wins else agent looses.\n",
    "\n",
    "5) If none of the above conditions satisfy then it's a draw"
   ]
  },
  {
   "cell_type": "code",
   "execution_count": 5,
   "metadata": {},
   "outputs": [],
   "source": [
    "def check(a):\n",
    "    \n",
    "    for i in range(3):\n",
    "        \n",
    "        if (a[i][0]=='X') and (a[i][0] == a[i][1]) and (a[i][1] == a[i][2]):   # cheking all elements in a row\n",
    "            print(f'Agent wins !!')\n",
    "            return 1\n",
    "            \n",
    "        elif (a[0][i]=='X') and (a[0][i] == a[1][i]) and (a[1][i] == a[2][i]):  # cheking all elements in a column\n",
    "            print(f'Agent wins !!')\n",
    "            return 1\n",
    "           \n",
    "        elif (a[i][0]!='X') and (a[i][0] == a[i][1]) and (a[i][1] == a[i][2]): \n",
    "            print('Agent looses !!')\n",
    "            return 1\n",
    "        \n",
    "        elif (a[0][i]!='X') and (a[0][i] == a[1][i]) and (a[1][i] == a[2][i]):\n",
    "            print(f'Agent looses !!')\n",
    "            return 1\n",
    "        else:\n",
    "            continue\n",
    "      \n",
    "    if (a[1][1] == 'X') and (a[0][0] == a[1][1]) and (a[1][1] == a[2][2]):\n",
    "        print(f'Agent wins !!')\n",
    "        return 1\n",
    "    \n",
    "    if (a[1][1] != 'X') and (a[0][0] == a[1][1]) and (a[1][1] == a[2][2]):\n",
    "        print(f'Agent looses !!')\n",
    "        return 1\n",
    "    \n",
    "    if (a[1][1] == 'X') and (a[2][0] == a[1][1]) and (a[1][1] == a[0][2]):\n",
    "        print(f'Agent wins !!')\n",
    "        return 1\n",
    "    \n",
    "    if (a[1][1] != 'X') and (a[2][0] == a[1][1]) and (a[1][1] == a[0][2]):\n",
    "        print(f'Agent looses !!')\n",
    "        return 1\n",
    "    \n",
    "    print(\"It's a draw\")"
   ]
  },
  {
   "cell_type": "code",
   "execution_count": 6,
   "metadata": {},
   "outputs": [
    {
     "name": "stdout",
     "output_type": "stream",
     "text": [
      "Enter input string\n",
      "XXXOO----\n",
      "Agent wins !!\n"
     ]
    },
    {
     "data": {
      "text/plain": [
       "1"
      ]
     },
     "execution_count": 6,
     "metadata": {},
     "output_type": "execute_result"
    }
   ],
   "source": [
    "string = input('Enter input string\\n')\n",
    "string_to_char = [char for char in string]\n",
    "to_numpy = np.array(string_to_char).reshape(3,3)\n",
    "check(to_numpy)"
   ]
  },
  {
   "cell_type": "code",
   "execution_count": null,
   "metadata": {},
   "outputs": [],
   "source": []
  }
 ],
 "metadata": {
  "kernelspec": {
   "display_name": "Python 3",
   "language": "python",
   "name": "python3"
  },
  "language_info": {
   "codemirror_mode": {
    "name": "ipython",
    "version": 3
   },
   "file_extension": ".py",
   "mimetype": "text/x-python",
   "name": "python",
   "nbconvert_exporter": "python",
   "pygments_lexer": "ipython3",
   "version": "3.7.6"
  }
 },
 "nbformat": 4,
 "nbformat_minor": 4
}
