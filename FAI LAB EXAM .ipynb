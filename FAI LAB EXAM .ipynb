{
 "cells": [
  {
   "cell_type": "code",
   "execution_count": 1,
   "metadata": {},
   "outputs": [],
   "source": [
    "import numpy as np "
   ]
  },
  {
   "cell_type": "markdown",
   "metadata": {},
   "source": [
    "# Question 1"
   ]
  },
  {
   "cell_type": "markdown",
   "metadata": {},
   "source": [
    "# Pseudo Code\n",
    "\n",
    "1) A class Agent is created which taked dimensions of the environment as input\n",
    "\n",
    "2) create_env is the function which creates the enivronment. Lion is located in the middle of the environment and adjacent sides \n",
    "   of lion has heat. lion's state is denoted with (-10) value and the heat states are defined by (-5) value. Home is located the    the extreme end of the environment and is defined by (+20) value. \n",
    "   \n",
    "3) take_action if the function which takes current position of the agent as parameter. It checks all possible actions from current state. If any of the possible actions lead to the heat state, then it remove that action from the list of all possible action. After all the checks any random action is choosed from the list. And in the process of choosing the actions, if any of the actions from current state will lead the agent to home, then only that action is taken and the loop is ended.\n",
    "\n",
    "4) move function will take action from current state recurssively until agent reaches home.\n",
    "\n",
    "# Note:\n",
    "Agent will keep howring untill he reaches home.. so run this program at your own risk..."
   ]
  },
  {
   "cell_type": "code",
   "execution_count": 85,
   "metadata": {},
   "outputs": [],
   "source": [
    "class Agent:\n",
    "    \n",
    "    def __init__(self,n,m):\n",
    "        self.n = n\n",
    "        self.m = m\n",
    "    \n",
    "    def create_env(self):\n",
    "        '''\n",
    "        This function creates the enironment.\n",
    "        lion is placed at middle of the environment and \n",
    "        '''\n",
    "\n",
    "        self.env = np.zeros((self.n,self.m))\n",
    "\n",
    "        self.lion = (int(self.n/2),int(self.m/2))\n",
    "        self.heat = [(self.lion[0]-1,self.lion[1]),\\\n",
    "                     (self.lion[0]+1,self.lion[1]),\\\n",
    "                     (self.lion[0],self.lion[1]+1),\\\n",
    "                     (self.lion[0],self.lion[1]-1)]\n",
    "\n",
    "        self.env[self.lion] = -10\n",
    "        for i in self.heat:\n",
    "            self.env[i] = -5\n",
    "        self.home = (self.n-1,self.m-1)\n",
    "        self.env[self.home] = 20\n",
    "        \n",
    "    def take_action(self,pos):\n",
    "    \n",
    "        total_actions = [0,1,2,3] # 0:left,1:right,2:up,3:down\n",
    "        reached_home = False\n",
    "        for i,j in enumerate([(pos[0]-1,pos[1]),\\\n",
    "                              (pos[0]+1,pos[1]),\\\n",
    "                              (pos[0],pos[1]+1),\\\n",
    "                              (pos[0],pos[1]-1)]):\n",
    "            if j == self.home:\n",
    "                reached_home = True\n",
    "                break\n",
    "            if (j == self.lion) or (j in self.heat):\n",
    "                total_actions.remove(i)\n",
    "\n",
    "        if reached_home:\n",
    "            action = i\n",
    "            return action,True\n",
    "        action = np.random.choice(total_actions)\n",
    "        return action,False\n",
    "\n",
    "    def move(self,pos):\n",
    "\n",
    "        action,reached_home = self.take_action(pos)\n",
    "        if action == 0:\n",
    "            pos =  (pos[0]-1,pos[1])\n",
    "        elif action == 1:\n",
    "            pos = (pos[0]+1,pos[1])\n",
    "        elif action ==2:\n",
    "            pos = (pos[0],pos[1]+1)\n",
    "        else:\n",
    "            pos = (pos[0],pos[1]-1)\n",
    "        if not reached_home:\n",
    "            self.move(pos)\n",
    "        else:\n",
    "            print('Reahced home')"
   ]
  },
  {
   "cell_type": "code",
   "execution_count": 86,
   "metadata": {},
   "outputs": [],
   "source": [
    "p = Agent(4,5)"
   ]
  },
  {
   "cell_type": "code",
   "execution_count": 87,
   "metadata": {},
   "outputs": [],
   "source": [
    "p.create_env()"
   ]
  },
  {
   "cell_type": "markdown",
   "metadata": {},
   "source": [
    "For now I have commented the below line of code..     \n",
    "\n",
    "( there also might be a problem of IndexOutOfBounds) this is purely due to time constraints..."
   ]
  },
  {
   "cell_type": "code",
   "execution_count": 89,
   "metadata": {},
   "outputs": [],
   "source": [
    "#    p.move((0,0))"
   ]
  },
  {
   "cell_type": "markdown",
   "metadata": {},
   "source": [
    "# Question 2"
   ]
  },
  {
   "cell_type": "code",
   "execution_count": 47,
   "metadata": {},
   "outputs": [
    {
     "name": "stderr",
     "output_type": "stream",
     "text": [
      "C:\\Users\\Srujan\\Anaconda\\anaconda3\\lib\\site-packages\\sklearn\\utils\\deprecation.py:143: FutureWarning: The sklearn.tree.export module is  deprecated in version 0.22 and will be removed in version 0.24. The corresponding classes / functions should instead be imported from sklearn.tree. Anything that cannot be imported from sklearn.tree is now part of the private API.\n",
      "  warnings.warn(message, FutureWarning)\n"
     ]
    }
   ],
   "source": [
    "import pandas as pd\n",
    "from sklearn import tree\n",
    "from sklearn.tree import DecisionTreeClassifier\n",
    "from sklearn.tree.export import export_text"
   ]
  },
  {
   "cell_type": "markdown",
   "metadata": {},
   "source": [
    "# Rules:\n",
    "1) Is student from CSE branch?\n",
    "\n",
    "2) Is student interest in pursuing masters?\n",
    "\n",
    "3) Does the student have any backlogs?\n",
    "\n",
    "4) This is the decision of the expert system which says whether a particular student should go to US for masters or not"
   ]
  },
  {
   "cell_type": "code",
   "execution_count": 54,
   "metadata": {},
   "outputs": [
    {
     "data": {
      "text/html": [
       "<div>\n",
       "<style scoped>\n",
       "    .dataframe tbody tr th:only-of-type {\n",
       "        vertical-align: middle;\n",
       "    }\n",
       "\n",
       "    .dataframe tbody tr th {\n",
       "        vertical-align: top;\n",
       "    }\n",
       "\n",
       "    .dataframe thead th {\n",
       "        text-align: right;\n",
       "    }\n",
       "</style>\n",
       "<table border=\"1\" class=\"dataframe\">\n",
       "  <thead>\n",
       "    <tr style=\"text-align: right;\">\n",
       "      <th></th>\n",
       "      <th>Branch_CSE</th>\n",
       "      <th>To_masters</th>\n",
       "      <th>Backlogs</th>\n",
       "      <th>Target_to_US</th>\n",
       "    </tr>\n",
       "  </thead>\n",
       "  <tbody>\n",
       "    <tr>\n",
       "      <th>0</th>\n",
       "      <td>0</td>\n",
       "      <td>1</td>\n",
       "      <td>0</td>\n",
       "      <td>1</td>\n",
       "    </tr>\n",
       "    <tr>\n",
       "      <th>1</th>\n",
       "      <td>1</td>\n",
       "      <td>0</td>\n",
       "      <td>1</td>\n",
       "      <td>0</td>\n",
       "    </tr>\n",
       "    <tr>\n",
       "      <th>2</th>\n",
       "      <td>0</td>\n",
       "      <td>1</td>\n",
       "      <td>1</td>\n",
       "      <td>0</td>\n",
       "    </tr>\n",
       "    <tr>\n",
       "      <th>3</th>\n",
       "      <td>1</td>\n",
       "      <td>0</td>\n",
       "      <td>0</td>\n",
       "      <td>0</td>\n",
       "    </tr>\n",
       "    <tr>\n",
       "      <th>4</th>\n",
       "      <td>0</td>\n",
       "      <td>1</td>\n",
       "      <td>0</td>\n",
       "      <td>1</td>\n",
       "    </tr>\n",
       "    <tr>\n",
       "      <th>5</th>\n",
       "      <td>1</td>\n",
       "      <td>1</td>\n",
       "      <td>0</td>\n",
       "      <td>1</td>\n",
       "    </tr>\n",
       "    <tr>\n",
       "      <th>6</th>\n",
       "      <td>0</td>\n",
       "      <td>1</td>\n",
       "      <td>0</td>\n",
       "      <td>0</td>\n",
       "    </tr>\n",
       "    <tr>\n",
       "      <th>7</th>\n",
       "      <td>0</td>\n",
       "      <td>1</td>\n",
       "      <td>0</td>\n",
       "      <td>0</td>\n",
       "    </tr>\n",
       "    <tr>\n",
       "      <th>8</th>\n",
       "      <td>0</td>\n",
       "      <td>1</td>\n",
       "      <td>1</td>\n",
       "      <td>0</td>\n",
       "    </tr>\n",
       "    <tr>\n",
       "      <th>9</th>\n",
       "      <td>1</td>\n",
       "      <td>0</td>\n",
       "      <td>1</td>\n",
       "      <td>0</td>\n",
       "    </tr>\n",
       "    <tr>\n",
       "      <th>10</th>\n",
       "      <td>1</td>\n",
       "      <td>1</td>\n",
       "      <td>0</td>\n",
       "      <td>1</td>\n",
       "    </tr>\n",
       "    <tr>\n",
       "      <th>11</th>\n",
       "      <td>1</td>\n",
       "      <td>1</td>\n",
       "      <td>0</td>\n",
       "      <td>1</td>\n",
       "    </tr>\n",
       "  </tbody>\n",
       "</table>\n",
       "</div>"
      ],
      "text/plain": [
       "    Branch_CSE  To_masters  Backlogs  Target_to_US\n",
       "0            0           1         0             1\n",
       "1            1           0         1             0\n",
       "2            0           1         1             0\n",
       "3            1           0         0             0\n",
       "4            0           1         0             1\n",
       "5            1           1         0             1\n",
       "6            0           1         0             0\n",
       "7            0           1         0             0\n",
       "8            0           1         1             0\n",
       "9            1           0         1             0\n",
       "10           1           1         0             1\n",
       "11           1           1         0             1"
      ]
     },
     "execution_count": 54,
     "metadata": {},
     "output_type": "execute_result"
    }
   ],
   "source": [
    "dictionary = {'Branch_CSE':[0,1,0,1,0,1,0,0,0,1,1,1],'To_masters':[1,0,1,0,1,1,1,1,1,0,1,1],\n",
    "              'Backlogs':[0,1,1,0,0,0,0,0,1,1,0,0],'Target_to_US':[1,0,0,0,1,1,0,0,0,0,1,1]}\n",
    "df = pd.DataFrame(dictionary)\n",
    "df"
   ]
  },
  {
   "cell_type": "code",
   "execution_count": 51,
   "metadata": {},
   "outputs": [],
   "source": [
    "X = df.iloc[:,:-1]\n",
    "Y = df.iloc[:,-1]"
   ]
  },
  {
   "cell_type": "code",
   "execution_count": 57,
   "metadata": {},
   "outputs": [
    {
     "data": {
      "text/plain": [
       "DecisionTreeClassifier(random_state=42)"
      ]
     },
     "execution_count": 57,
     "metadata": {},
     "output_type": "execute_result"
    }
   ],
   "source": [
    "dt = DecisionTreeClassifier(random_state=42)\n",
    "dt.fit(X,Y)"
   ]
  },
  {
   "cell_type": "code",
   "execution_count": 58,
   "metadata": {},
   "outputs": [],
   "source": [
    "inputs = ['CSE','To Masters','Backlogs']\n",
    "classes = ['Dont go to US','Go to US']"
   ]
  },
  {
   "cell_type": "code",
   "execution_count": 59,
   "metadata": {},
   "outputs": [
    {
     "data": {
      "text/plain": [
       "[Text(167.4, 190.26, 'CSE <= 0.5\\ngini = 0.5\\nsamples = 12\\nvalue = [6, 6]\\nclass = Dont go to US'),\n",
       " Text(83.7, 135.9, 'Backlogs <= 0.5\\ngini = 0.278\\nsamples = 6\\nvalue = [5, 1]\\nclass = Dont go to US'),\n",
       " Text(41.85, 81.53999999999999, 'gini = 0.0\\nsamples = 4\\nvalue = [4, 0]\\nclass = Dont go to US'),\n",
       " Text(125.55000000000001, 81.53999999999999, 'gini = 0.5\\nsamples = 2\\nvalue = [1, 1]\\nclass = Dont go to US'),\n",
       " Text(251.10000000000002, 135.9, 'To Masters <= 0.5\\ngini = 0.278\\nsamples = 6\\nvalue = [1, 5]\\nclass = Go to US'),\n",
       " Text(209.25, 81.53999999999999, 'Backlogs <= 0.5\\ngini = 0.375\\nsamples = 4\\nvalue = [1, 3]\\nclass = Go to US'),\n",
       " Text(167.4, 27.180000000000007, 'gini = 0.444\\nsamples = 3\\nvalue = [1, 2]\\nclass = Go to US'),\n",
       " Text(251.10000000000002, 27.180000000000007, 'gini = 0.0\\nsamples = 1\\nvalue = [0, 1]\\nclass = Go to US'),\n",
       " Text(292.95, 81.53999999999999, 'gini = 0.0\\nsamples = 2\\nvalue = [0, 2]\\nclass = Go to US')]"
      ]
     },
     "execution_count": 59,
     "metadata": {},
     "output_type": "execute_result"
    },
    {
     "data": {
      "image/png": "[encoded data removed]",
      "text/plain": [
       "<Figure size 432x288 with 1 Axes>"
      ]
     },
     "metadata": {
      "needs_background": "light"
     },
     "output_type": "display_data"
    }
   ],
   "source": [
    "tree.plot_tree(dt,feature_names = inputs, \n",
    "               class_names=classes,\n",
    "               filled = True)"
   ]
  },
  {
   "cell_type": "markdown",
   "metadata": {},
   "source": [
    "# Question 3"
   ]
  },
  {
   "cell_type": "markdown",
   "metadata": {},
   "source": [
    "# Strategy \n",
    "\n",
    "\n",
    "1) I will convert the input into 2 dimensional array.. just as Tic Tac Toe grid.\n",
    "\n",
    "2) Then I will check all elemnts in each row and end in each column. If all the elements are equal in a particular row or a particular column and if the value of the element is X (only X coz X is the agent), then agent wins.\n",
    "\n",
    "3) If all the elements in a particular row or column is not X and they are equal then, agent looses.\n",
    "\n",
    "4) Likewise I'm also checking the diagonal elements of the array. If they are equal and the element in X then agent wins else agent looses.\n",
    "\n",
    "5) If none of the above conditions satisfy then it's a draw"
   ]
  },
  {
   "cell_type": "code",
   "execution_count": 92,
   "metadata": {},
   "outputs": [],
   "source": [
    "def check(a):\n",
    "    \n",
    "    for i in range(3):\n",
    "        \n",
    "        if (a[i][0]=='X') and (a[i][0] == a[i][1]) and (a[i][1] == a[i][2]):   # cheking all elements in a row\n",
    "            print(f'Agent wins !!')\n",
    "            return 1\n",
    "            \n",
    "        elif (a[0][i]=='X') and (a[0][i] == a[1][i]) and (a[1][i] == a[2][i]):  # cheking all elements in a column\n",
    "            print(f'Agent wins !!')\n",
    "            return 1\n",
    "           \n",
    "        elif (a[i][0]!='X') and (a[i][0] == a[i][1]) and (a[i][1] == a[i][2]): \n",
    "            print('Agent looses !!')\n",
    "            return 1\n",
    "        \n",
    "        elif (a[0][i]!='X') and (a[0][i] == a[1][i]) and (a[1][i] == a[2][i]):\n",
    "            print(f'Agent looses !!')\n",
    "            return 1\n",
    "        else:\n",
    "            continue\n",
    "      \n",
    "    if (a[1][1] == 'X') and (a[0][0] == a[1][1]) and (a[1][1] == a[2][2]):\n",
    "        print(f'Agent wins !!')\n",
    "        return 1\n",
    "    \n",
    "    if (a[1][1] != 'X') and (a[0][0] == a[1][1]) and (a[1][1] == a[2][2]):\n",
    "        print(f'Agent looses !!')\n",
    "        return 1\n",
    "    \n",
    "    if (a[1][1] == 'X') and (a[2][0] == a[1][1]) and (a[1][1] == a[0][2]):\n",
    "        print(f'Agent wins !!')\n",
    "        return 1\n",
    "    \n",
    "    if (a[1][1] != 'X') and (a[2][0] == a[1][1]) and (a[1][1] == a[0][2]):\n",
    "        print(f'Agent looses !!')\n",
    "        return 1\n",
    "    \n",
    "    print(\"It's a draw\")\n",
    "            "
   ]
  },
  {
   "cell_type": "code",
   "execution_count": 94,
   "metadata": {},
   "outputs": [
    {
     "name": "stdout",
     "output_type": "stream",
     "text": [
      "Enter input string\n",
      "X-O-X-O-X\n",
      "Agent wins !!\n"
     ]
    },
    {
     "data": {
      "text/plain": [
       "1"
      ]
     },
     "execution_count": 94,
     "metadata": {},
     "output_type": "execute_result"
    }
   ],
   "source": [
    "string = input('Enter input string\\n')\n",
    "string_to_char = [char for char in string]\n",
    "to_numpy = np.array(string_to_char).reshape(3,3)\n",
    "check(to_numpy)"
   ]
  },
  {
   "cell_type": "code",
   "execution_count": null,
   "metadata": {},
   "outputs": [],
   "source": []
  }
 ],
 "metadata": {
  "kernelspec": {
   "display_name": "Python 3",
   "language": "python",
   "name": "python3"
  },
  "language_info": {
   "codemirror_mode": {
    "name": "ipython",
    "version": 3
   },
   "file_extension": ".py",
   "mimetype": "text/x-python",
   "name": "python",
   "nbconvert_exporter": "python",
   "pygments_lexer": "ipython3",
   "version": "3.7.6"
  }
 },
 "nbformat": 4,
 "nbformat_minor": 4
}
